{
 "cells": [
  {
   "cell_type": "markdown",
   "metadata": {
    "toc": true
   },
   "source": [
    "<h1>Содержание<span class=\"tocSkip\"></span></h1>\n",
    "<div class=\"toc\"><ul class=\"toc-item\"><li><span><a href=\"#Загрузка-и-подготовка-данных\" data-toc-modified-id=\"Загрузка-и-подготовка-данных-1\"><span class=\"toc-item-num\">1&nbsp;&nbsp;</span>Загрузка и подготовка данных</a></span><ul class=\"toc-item\"><li><span><a href=\"#Объявление-констант\" data-toc-modified-id=\"Объявление-констант-1.1\"><span class=\"toc-item-num\">1.1&nbsp;&nbsp;</span>Объявление констант</a></span></li></ul></li><li><span><a href=\"#Обучение-и-проверка-модели\" data-toc-modified-id=\"Обучение-и-проверка-модели-2\"><span class=\"toc-item-num\">2&nbsp;&nbsp;</span>Обучение и проверка модели</a></span><ul class=\"toc-item\"><li><span><a href=\"#Разделение-данных-на-выборки\" data-toc-modified-id=\"Разделение-данных-на-выборки-2.1\"><span class=\"toc-item-num\">2.1&nbsp;&nbsp;</span>Разделение данных на выборки</a></span></li><li><span><a href=\"#Функция-обучения\" data-toc-modified-id=\"Функция-обучения-2.2\"><span class=\"toc-item-num\">2.2&nbsp;&nbsp;</span>Функция обучения</a></span></li><li><span><a href=\"#Обучение-моделей-для-каждого-региона\" data-toc-modified-id=\"Обучение-моделей-для-каждого-региона-2.3\"><span class=\"toc-item-num\">2.3&nbsp;&nbsp;</span>Обучение моделей для каждого региона</a></span></li><li><span><a href=\"#Выводы-по-обучению-и-проверкe-моделей-для-регионов\" data-toc-modified-id=\"Выводы-по-обучению-и-проверкe-моделей-для-регионов-2.4\"><span class=\"toc-item-num\">2.4&nbsp;&nbsp;</span>Выводы по обучению и проверкe моделей для регионов</a></span></li></ul></li><li><span><a href=\"#Подготовка-к-расчёту-прибыли\" data-toc-modified-id=\"Подготовка-к-расчёту-прибыли-3\"><span class=\"toc-item-num\">3&nbsp;&nbsp;</span>Подготовка к расчёту прибыли</a></span><ul class=\"toc-item\"><li><span><a href=\"#Расчет-достаточного-объём-сырья-для-безубыточной-разработки-новой-скважины\" data-toc-modified-id=\"Расчет-достаточного-объём-сырья-для-безубыточной-разработки-новой-скважины-3.1\"><span class=\"toc-item-num\">3.1&nbsp;&nbsp;</span>Расчет достаточного объём сырья для безубыточной разработки новой скважины</a></span></li><li><span><a href=\"#Функция-для-расчета-прибыли\" data-toc-modified-id=\"Функция-для-расчета-прибыли-3.2\"><span class=\"toc-item-num\">3.2&nbsp;&nbsp;</span>Функция для расчета прибыли</a></span></li></ul></li><li><span><a href=\"#Расчёт-прибыли-и-рисков\" data-toc-modified-id=\"Расчёт-прибыли-и-рисков-4\"><span class=\"toc-item-num\">4&nbsp;&nbsp;</span>Расчёт прибыли и рисков</a></span><ul class=\"toc-item\"><li><span><a href=\"#Функция-для-получение-распределения-прибыли-(процедура-Bootstrap)\" data-toc-modified-id=\"Функция-для-получение-распределения-прибыли-(процедура-Bootstrap)-4.1\"><span class=\"toc-item-num\">4.1&nbsp;&nbsp;</span>Функция для получение распределения прибыли (процедура Bootstrap)</a></span></li><li><span><a href=\"#Получение-распределения-прибыли-для-каждого-региона\" data-toc-modified-id=\"Получение-распределения-прибыли-для-каждого-региона-4.2\"><span class=\"toc-item-num\">4.2&nbsp;&nbsp;</span>Получение распределения прибыли для каждого региона</a></span></li><li><span><a href=\"#Вывод.-Выбор-региона-для-разработки-скважин.\" data-toc-modified-id=\"Вывод.-Выбор-региона-для-разработки-скважин.-4.3\"><span class=\"toc-item-num\">4.3&nbsp;&nbsp;</span>Вывод. Выбор региона для разработки скважин.</a></span></li></ul></li><li><span><a href=\"#Общий-вывод-по-проекту\" data-toc-modified-id=\"Общий-вывод-по-проекту-5\"><span class=\"toc-item-num\">5&nbsp;&nbsp;</span>Общий вывод по проекту</a></span></li><li><span><a href=\"#Чек-лист-готовности-проекта\" data-toc-modified-id=\"Чек-лист-готовности-проекта-6\"><span class=\"toc-item-num\">6&nbsp;&nbsp;</span>Чек-лист готовности проекта</a></span></li></ul></div>"
   ]
  },
  {
   "cell_type": "markdown",
   "metadata": {},
   "source": [
    "# Выбор локации для скважины"
   ]
  },
  {
   "cell_type": "markdown",
   "metadata": {},
   "source": [
    "Допустим, вы работаете в добывающей компании «ГлавРосГосНефть». Нужно решить, где бурить новую скважину.\n",
    "\n",
    "Вам предоставлены пробы нефти в трёх регионах: в каждом 10 000 месторождений, где измерили качество нефти и объём её запасов. Постройте модель машинного обучения, которая поможет определить регион, где добыча принесёт наибольшую прибыль. Проанализируйте возможную прибыль и риски техникой *Bootstrap.*\n",
    "\n",
    "Шаги для выбора локации:\n",
    "\n",
    "- В избранном регионе ищут месторождения, для каждого определяют значения признаков;\n",
    "- Строят модель и оценивают объём запасов;\n",
    "- Выбирают месторождения с самым высокими оценками значений. Количество месторождений зависит от бюджета компании и стоимости разработки одной скважины;\n",
    "- Прибыль равна суммарной прибыли отобранных месторождений."
   ]
  },
  {
   "cell_type": "markdown",
   "metadata": {},
   "source": [
    "**План работ**\n",
    "\n",
    "1. Загрузить данные и подготовить данные к анализу.\n",
    "2. Обучить и проверить модель для каждого региона:\n",
    "    - Разбить данные на обучающую и валидационную выборки в соотношении 75:25.\n",
    "    - Обучить модель и сделать предсказания на валидационной выборке.\n",
    "    - Сохранить предсказания и правильные ответы на валидационной выборке.\n",
    "    - Вывести средний запас предсказанного сырья и RMSE модели.\n",
    "    - Проанализировать результаты.\n",
    "3. Подготовиться к расчёту прибыли:\n",
    "    - Рассчитать достаточный объём сырья для безубыточной разработки новой скважины. \n",
    "    - Сравнить полученный объём сырья со средним запасом в каждом регионе.\n",
    "    - Сделать выводы до данному этапу.\n",
    "4. Написать функцию для расчёта прибыли по выбранным скважинам и предсказаниям модели:\n",
    "    - Выбрать скважины с максимальными значениями предсказаний.\n",
    "    - Просуммировать целевое значение объёма сырья, соответствующее этим предсказаниям.\n",
    "    - Рассчитать прибыль для полученного объёма сырья.\n",
    "5. Посчитать риски и прибыль для каждого региона:\n",
    "    - Применить технику Bootstrap с 1000 выборок, чтобы найти распределение прибыли.\n",
    "    - Найти среднюю прибыль, 95%-й доверительный интервал и риск убытков. Убыток — это отрицательная прибыль.\n",
    "    - Написать выводы: предложить регион для разработки скважин, обосновав свой выбор."
   ]
  },
  {
   "cell_type": "markdown",
   "metadata": {},
   "source": [
    "## Загрузка и подготовка данных"
   ]
  },
  {
   "cell_type": "code",
   "execution_count": 1,
   "metadata": {},
   "outputs": [],
   "source": [
    "import pandas as pd\n",
    "import numpy as np\n",
    "import matplotlib.pyplot as plt\n",
    "import seaborn as sns\n",
    "\n",
    "from sklearn.model_selection import train_test_split\n",
    "from sklearn.linear_model import LinearRegression\n",
    "from sklearn.metrics import mean_squared_error"
   ]
  },
  {
   "cell_type": "markdown",
   "metadata": {},
   "source": [
    "### Объявление констант"
   ]
  },
  {
   "cell_type": "markdown",
   "metadata": {},
   "source": [
    "- Бюджет на разработку скважин в регионе — 10 млрд рублей. \n",
    "- При разведке региона исследуют 500 точек, из которых с помощью машинного обучения выбирают 200 лучших для разработки. \n",
    "- При нынешних ценах один баррель сырья приносит 450 рублей дохода. Доход с каждой единицы продукта составляет 450 тыс. рублей, поскольку объём указан в тысячах баррелей."
   ]
  },
  {
   "cell_type": "code",
   "execution_count": 2,
   "metadata": {},
   "outputs": [],
   "source": [
    "# сохраняем ключевые значения для расчетов\n",
    "BUDGET = 10_000_000_000\n",
    "N_BOREHOLES = 200\n",
    "INCOME_PER_UNIT = 450_000"
   ]
  },
  {
   "cell_type": "code",
   "execution_count": 3,
   "metadata": {},
   "outputs": [],
   "source": [
    "# загружаем датасеты\n",
    "try:\n",
    "    region_1 = pd.read_csv('/datasets/geo_data_0.csv')\n",
    "    region_2 = pd.read_csv('/datasets/geo_data_1.csv')\n",
    "    region_3 = pd.read_csv('/datasets/geo_data_2.csv')\n",
    "except:\n",
    "    region_1 = pd.read_csv('https://code.s3.yandex.net/datasets/geo_data_0.csv')\n",
    "    region_2 = pd.read_csv('https://code.s3.yandex.net/datasets/geo_data_1.csv')\n",
    "    region_3 = pd.read_csv('https://code.s3.yandex.net/datasets/geo_data_2.csv')"
   ]
  },
  {
   "cell_type": "code",
   "execution_count": 4,
   "metadata": {},
   "outputs": [
    {
     "name": "stdout",
     "output_type": "stream",
     "text": [
      "<class 'pandas.core.frame.DataFrame'>\n",
      "RangeIndex: 100000 entries, 0 to 99999\n",
      "Data columns (total 5 columns):\n",
      " #   Column   Non-Null Count   Dtype  \n",
      "---  ------   --------------   -----  \n",
      " 0   id       100000 non-null  object \n",
      " 1   f0       100000 non-null  float64\n",
      " 2   f1       100000 non-null  float64\n",
      " 3   f2       100000 non-null  float64\n",
      " 4   product  100000 non-null  float64\n",
      "dtypes: float64(4), object(1)\n",
      "memory usage: 3.8+ MB\n"
     ]
    }
   ],
   "source": [
    "region_1.info() # описание данных по 1-му региону"
   ]
  },
  {
   "cell_type": "code",
   "execution_count": 5,
   "metadata": {},
   "outputs": [
    {
     "name": "stdout",
     "output_type": "stream",
     "text": [
      "<class 'pandas.core.frame.DataFrame'>\n",
      "RangeIndex: 100000 entries, 0 to 99999\n",
      "Data columns (total 5 columns):\n",
      " #   Column   Non-Null Count   Dtype  \n",
      "---  ------   --------------   -----  \n",
      " 0   id       100000 non-null  object \n",
      " 1   f0       100000 non-null  float64\n",
      " 2   f1       100000 non-null  float64\n",
      " 3   f2       100000 non-null  float64\n",
      " 4   product  100000 non-null  float64\n",
      "dtypes: float64(4), object(1)\n",
      "memory usage: 3.8+ MB\n"
     ]
    }
   ],
   "source": [
    "region_2.info() # описание данных по 2-му региону"
   ]
  },
  {
   "cell_type": "code",
   "execution_count": 6,
   "metadata": {},
   "outputs": [
    {
     "name": "stdout",
     "output_type": "stream",
     "text": [
      "<class 'pandas.core.frame.DataFrame'>\n",
      "RangeIndex: 100000 entries, 0 to 99999\n",
      "Data columns (total 5 columns):\n",
      " #   Column   Non-Null Count   Dtype  \n",
      "---  ------   --------------   -----  \n",
      " 0   id       100000 non-null  object \n",
      " 1   f0       100000 non-null  float64\n",
      " 2   f1       100000 non-null  float64\n",
      " 3   f2       100000 non-null  float64\n",
      " 4   product  100000 non-null  float64\n",
      "dtypes: float64(4), object(1)\n",
      "memory usage: 3.8+ MB\n"
     ]
    }
   ],
   "source": [
    "region_3.info() # описание данных по 3-му региону"
   ]
  },
  {
   "cell_type": "code",
   "execution_count": 7,
   "metadata": {
    "scrolled": false
   },
   "outputs": [
    {
     "data": {
      "text/html": [
       "<div>\n",
       "<style scoped>\n",
       "    .dataframe tbody tr th:only-of-type {\n",
       "        vertical-align: middle;\n",
       "    }\n",
       "\n",
       "    .dataframe tbody tr th {\n",
       "        vertical-align: top;\n",
       "    }\n",
       "\n",
       "    .dataframe thead th {\n",
       "        text-align: right;\n",
       "    }\n",
       "</style>\n",
       "<table border=\"1\" class=\"dataframe\">\n",
       "  <thead>\n",
       "    <tr style=\"text-align: right;\">\n",
       "      <th></th>\n",
       "      <th>id</th>\n",
       "      <th>f0</th>\n",
       "      <th>f1</th>\n",
       "      <th>f2</th>\n",
       "      <th>product</th>\n",
       "    </tr>\n",
       "  </thead>\n",
       "  <tbody>\n",
       "    <tr>\n",
       "      <th>0</th>\n",
       "      <td>txEyH</td>\n",
       "      <td>0.705745</td>\n",
       "      <td>-0.497823</td>\n",
       "      <td>1.221170</td>\n",
       "      <td>105.280062</td>\n",
       "    </tr>\n",
       "    <tr>\n",
       "      <th>1</th>\n",
       "      <td>2acmU</td>\n",
       "      <td>1.334711</td>\n",
       "      <td>-0.340164</td>\n",
       "      <td>4.365080</td>\n",
       "      <td>73.037750</td>\n",
       "    </tr>\n",
       "    <tr>\n",
       "      <th>2</th>\n",
       "      <td>409Wp</td>\n",
       "      <td>1.022732</td>\n",
       "      <td>0.151990</td>\n",
       "      <td>1.419926</td>\n",
       "      <td>85.265647</td>\n",
       "    </tr>\n",
       "    <tr>\n",
       "      <th>3</th>\n",
       "      <td>iJLyR</td>\n",
       "      <td>-0.032172</td>\n",
       "      <td>0.139033</td>\n",
       "      <td>2.978566</td>\n",
       "      <td>168.620776</td>\n",
       "    </tr>\n",
       "    <tr>\n",
       "      <th>4</th>\n",
       "      <td>Xdl7t</td>\n",
       "      <td>1.988431</td>\n",
       "      <td>0.155413</td>\n",
       "      <td>4.751769</td>\n",
       "      <td>154.036647</td>\n",
       "    </tr>\n",
       "  </tbody>\n",
       "</table>\n",
       "</div>"
      ],
      "text/plain": [
       "      id        f0        f1        f2     product\n",
       "0  txEyH  0.705745 -0.497823  1.221170  105.280062\n",
       "1  2acmU  1.334711 -0.340164  4.365080   73.037750\n",
       "2  409Wp  1.022732  0.151990  1.419926   85.265647\n",
       "3  iJLyR -0.032172  0.139033  2.978566  168.620776\n",
       "4  Xdl7t  1.988431  0.155413  4.751769  154.036647"
      ]
     },
     "metadata": {},
     "output_type": "display_data"
    },
    {
     "data": {
      "text/html": [
       "<div>\n",
       "<style scoped>\n",
       "    .dataframe tbody tr th:only-of-type {\n",
       "        vertical-align: middle;\n",
       "    }\n",
       "\n",
       "    .dataframe tbody tr th {\n",
       "        vertical-align: top;\n",
       "    }\n",
       "\n",
       "    .dataframe thead th {\n",
       "        text-align: right;\n",
       "    }\n",
       "</style>\n",
       "<table border=\"1\" class=\"dataframe\">\n",
       "  <thead>\n",
       "    <tr style=\"text-align: right;\">\n",
       "      <th></th>\n",
       "      <th>id</th>\n",
       "      <th>f0</th>\n",
       "      <th>f1</th>\n",
       "      <th>f2</th>\n",
       "      <th>product</th>\n",
       "    </tr>\n",
       "  </thead>\n",
       "  <tbody>\n",
       "    <tr>\n",
       "      <th>0</th>\n",
       "      <td>kBEdx</td>\n",
       "      <td>-15.001348</td>\n",
       "      <td>-8.276000</td>\n",
       "      <td>-0.005876</td>\n",
       "      <td>3.179103</td>\n",
       "    </tr>\n",
       "    <tr>\n",
       "      <th>1</th>\n",
       "      <td>62mP7</td>\n",
       "      <td>14.272088</td>\n",
       "      <td>-3.475083</td>\n",
       "      <td>0.999183</td>\n",
       "      <td>26.953261</td>\n",
       "    </tr>\n",
       "    <tr>\n",
       "      <th>2</th>\n",
       "      <td>vyE1P</td>\n",
       "      <td>6.263187</td>\n",
       "      <td>-5.948386</td>\n",
       "      <td>5.001160</td>\n",
       "      <td>134.766305</td>\n",
       "    </tr>\n",
       "    <tr>\n",
       "      <th>3</th>\n",
       "      <td>KcrkZ</td>\n",
       "      <td>-13.081196</td>\n",
       "      <td>-11.506057</td>\n",
       "      <td>4.999415</td>\n",
       "      <td>137.945408</td>\n",
       "    </tr>\n",
       "    <tr>\n",
       "      <th>4</th>\n",
       "      <td>AHL4O</td>\n",
       "      <td>12.702195</td>\n",
       "      <td>-8.147433</td>\n",
       "      <td>5.004363</td>\n",
       "      <td>134.766305</td>\n",
       "    </tr>\n",
       "  </tbody>\n",
       "</table>\n",
       "</div>"
      ],
      "text/plain": [
       "      id         f0         f1        f2     product\n",
       "0  kBEdx -15.001348  -8.276000 -0.005876    3.179103\n",
       "1  62mP7  14.272088  -3.475083  0.999183   26.953261\n",
       "2  vyE1P   6.263187  -5.948386  5.001160  134.766305\n",
       "3  KcrkZ -13.081196 -11.506057  4.999415  137.945408\n",
       "4  AHL4O  12.702195  -8.147433  5.004363  134.766305"
      ]
     },
     "metadata": {},
     "output_type": "display_data"
    },
    {
     "data": {
      "text/html": [
       "<div>\n",
       "<style scoped>\n",
       "    .dataframe tbody tr th:only-of-type {\n",
       "        vertical-align: middle;\n",
       "    }\n",
       "\n",
       "    .dataframe tbody tr th {\n",
       "        vertical-align: top;\n",
       "    }\n",
       "\n",
       "    .dataframe thead th {\n",
       "        text-align: right;\n",
       "    }\n",
       "</style>\n",
       "<table border=\"1\" class=\"dataframe\">\n",
       "  <thead>\n",
       "    <tr style=\"text-align: right;\">\n",
       "      <th></th>\n",
       "      <th>id</th>\n",
       "      <th>f0</th>\n",
       "      <th>f1</th>\n",
       "      <th>f2</th>\n",
       "      <th>product</th>\n",
       "    </tr>\n",
       "  </thead>\n",
       "  <tbody>\n",
       "    <tr>\n",
       "      <th>0</th>\n",
       "      <td>fwXo0</td>\n",
       "      <td>-1.146987</td>\n",
       "      <td>0.963328</td>\n",
       "      <td>-0.828965</td>\n",
       "      <td>27.758673</td>\n",
       "    </tr>\n",
       "    <tr>\n",
       "      <th>1</th>\n",
       "      <td>WJtFt</td>\n",
       "      <td>0.262778</td>\n",
       "      <td>0.269839</td>\n",
       "      <td>-2.530187</td>\n",
       "      <td>56.069697</td>\n",
       "    </tr>\n",
       "    <tr>\n",
       "      <th>2</th>\n",
       "      <td>ovLUW</td>\n",
       "      <td>0.194587</td>\n",
       "      <td>0.289035</td>\n",
       "      <td>-5.586433</td>\n",
       "      <td>62.871910</td>\n",
       "    </tr>\n",
       "    <tr>\n",
       "      <th>3</th>\n",
       "      <td>q6cA6</td>\n",
       "      <td>2.236060</td>\n",
       "      <td>-0.553760</td>\n",
       "      <td>0.930038</td>\n",
       "      <td>114.572842</td>\n",
       "    </tr>\n",
       "    <tr>\n",
       "      <th>4</th>\n",
       "      <td>WPMUX</td>\n",
       "      <td>-0.515993</td>\n",
       "      <td>1.716266</td>\n",
       "      <td>5.899011</td>\n",
       "      <td>149.600746</td>\n",
       "    </tr>\n",
       "  </tbody>\n",
       "</table>\n",
       "</div>"
      ],
      "text/plain": [
       "      id        f0        f1        f2     product\n",
       "0  fwXo0 -1.146987  0.963328 -0.828965   27.758673\n",
       "1  WJtFt  0.262778  0.269839 -2.530187   56.069697\n",
       "2  ovLUW  0.194587  0.289035 -5.586433   62.871910\n",
       "3  q6cA6  2.236060 -0.553760  0.930038  114.572842\n",
       "4  WPMUX -0.515993  1.716266  5.899011  149.600746"
      ]
     },
     "metadata": {},
     "output_type": "display_data"
    }
   ],
   "source": [
    "# посмотрим на то, как выглядят данные по регионам\n",
    "display(region_1.head())\n",
    "display(region_2.head())\n",
    "display(region_3.head()) "
   ]
  },
  {
   "cell_type": "code",
   "execution_count": 8,
   "metadata": {},
   "outputs": [
    {
     "name": "stdout",
     "output_type": "stream",
     "text": [
      "Количество полных дубликатов в данных по 1-му региону: 0\n",
      "Количество дубликатов по id в данных по 1-му региону: 10\n",
      "Количество полных дубликатов в данных по 2-му региону: 0\n",
      "Количество дубликатов по id в данных по 2-му региону: 4\n",
      "Количество полных дубликатов в данных по 3-му региону: 0\n",
      "Количество дубликатов по id в данных по 3-му региону: 4\n"
     ]
    }
   ],
   "source": [
    "# проверим есть ли полные дубликаты или дубликаты по id в данных каждого региона\n",
    "print(f'Количество полных дубликатов в данных по 1-му региону: {region_1.duplicated().sum()}')\n",
    "print(f'Количество дубликатов по id в данных по 1-му региону: {region_1.duplicated(\"id\").sum()}')\n",
    "\n",
    "print(f'Количество полных дубликатов в данных по 2-му региону: {region_2.duplicated().sum()}')\n",
    "print(f'Количество дубликатов по id в данных по 2-му региону: {region_2.duplicated(\"id\").sum()}')\n",
    "\n",
    "print(f'Количество полных дубликатов в данных по 3-му региону: {region_3.duplicated().sum()}')\n",
    "print(f'Количество дубликатов по id в данных по 3-му региону: {region_3.duplicated(\"id\").sum()}')"
   ]
  },
  {
   "cell_type": "code",
   "execution_count": 9,
   "metadata": {},
   "outputs": [
    {
     "data": {
      "image/png": "[encoded data removed]",
      "text/plain": [
       "<Figure size 432x288 with 1 Axes>"
      ]
     },
     "metadata": {
      "needs_background": "light"
     },
     "output_type": "display_data"
    },
    {
     "data": {
      "image/png": "[encoded data removed]",
      "text/plain": [
       "<Figure size 432x288 with 1 Axes>"
      ]
     },
     "metadata": {
      "needs_background": "light"
     },
     "output_type": "display_data"
    },
    {
     "data": {
      "image/png": "[encoded data removed]",
      "text/plain": [
       "<Figure size 432x288 with 1 Axes>"
      ]
     },
     "metadata": {
      "needs_background": "light"
     },
     "output_type": "display_data"
    }
   ],
   "source": [
    "# посмотрим на распределение целевого признака в регионах\n",
    "region_1['product'].plot(kind='hist', title='Распределение целевого признака в  1-ом регионе')\n",
    "plt.show()\n",
    "region_2['product'].plot(kind='hist', title='Распределение целевого признака в  2-ом регионе')\n",
    "plt.show()\n",
    "region_3['product'].plot(kind='hist', title='Распределение целевого признака в  3-ом регионе')\n",
    "plt.show()"
   ]
  },
  {
   "cell_type": "code",
   "execution_count": 10,
   "metadata": {},
   "outputs": [],
   "source": [
    "# отделим целевой признак от остальных признаков (также уберем из признаков id, так как он не влияет на таргет)\n",
    "\n",
    "features_1 = region_1.drop(['id','product'], axis=1)\n",
    "features_2 = region_2.drop(['id','product'], axis=1)\n",
    "features_3 = region_3.drop(['id','product'], axis=1)\n",
    "\n",
    "target_1 = region_1['product']\n",
    "target_2 = region_2['product']\n",
    "target_3 = region_3['product']"
   ]
  },
  {
   "cell_type": "code",
   "execution_count": 11,
   "metadata": {},
   "outputs": [
    {
     "name": "stdout",
     "output_type": "stream",
     "text": [
      "<class 'pandas.core.frame.DataFrame'>\n",
      "RangeIndex: 100000 entries, 0 to 99999\n",
      "Data columns (total 3 columns):\n",
      " #   Column  Non-Null Count   Dtype  \n",
      "---  ------  --------------   -----  \n",
      " 0   f0      100000 non-null  float64\n",
      " 1   f1      100000 non-null  float64\n",
      " 2   f2      100000 non-null  float64\n",
      "dtypes: float64(3)\n",
      "memory usage: 2.3 MB\n"
     ]
    }
   ],
   "source": [
    "features_1.info()  # проверим, что выборка разделена корректно"
   ]
  },
  {
   "cell_type": "code",
   "execution_count": 12,
   "metadata": {},
   "outputs": [
    {
     "data": {
      "text/plain": [
       "0    105.280062\n",
       "1     73.037750\n",
       "2     85.265647\n",
       "3    168.620776\n",
       "4    154.036647\n",
       "Name: product, dtype: float64"
      ]
     },
     "execution_count": 12,
     "metadata": {},
     "output_type": "execute_result"
    }
   ],
   "source": [
    "target_1.head()"
   ]
  },
  {
   "cell_type": "code",
   "execution_count": 13,
   "metadata": {},
   "outputs": [
    {
     "data": {
      "image/png": "[encoded data removed]",
      "text/plain": [
       "<Figure size 432x288 with 2 Axes>"
      ]
     },
     "metadata": {
      "needs_background": "light"
     },
     "output_type": "display_data"
    },
    {
     "data": {
      "image/png": "[encoded data removed]",
      "text/plain": [
       "<Figure size 432x288 with 2 Axes>"
      ]
     },
     "metadata": {
      "needs_background": "light"
     },
     "output_type": "display_data"
    },
    {
     "data": {
      "image/png": "[encoded data removed]",
      "text/plain": [
       "<Figure size 432x288 with 2 Axes>"
      ]
     },
     "metadata": {
      "needs_background": "light"
     },
     "output_type": "display_data"
    }
   ],
   "source": [
    "# посмотрим на корреляцию признаков, чтобы избежать мультиколлинеарности\n",
    "sns.heatmap(features_1.corr())\n",
    "plt.show()\n",
    "sns.heatmap(features_2.corr())\n",
    "plt.show()\n",
    "sns.heatmap(features_3.corr())\n",
    "plt.show()"
   ]
  },
  {
   "cell_type": "markdown",
   "metadata": {},
   "source": [
    "**Вывод:** \n",
    "- Данные по каждому из регионов загружены. \n",
    "- **В них отсутствуют полные дубликаты и пропуски. Дубликатов по id очень мало (0.1% или меньше в каждом регионе)**. Возможно, это ошибка вызвана тем, что был внесен неправильный идентификатор, а скважины на самом деле разные. Кроме того сам id роли в обучение не играет, поэтому оставим данные без изменений.\n",
    "- **Удалены незначимые признаки**, которые не влияют на таргет (уникальный идентификатор скважины).\n",
    "- Проведено отделение целевого признака от остальных признаков.\n",
    "- **Получено распределение целевого признака для каждого региона:** в 1-ом и 3-ем регионах распределение похоже на нормальное. Во 2-ом же регионе есть пики на слишком больших и малых объемах добычи. Для остальных значений частотность примерно одинаковая.\n",
    "- Получены графики, отражающие корреляций между признаками. Согласно этим графикам ни в одном регионе нет сильной корреляции между каким-то признаками, то есть **мультиколлинеарность признаков отсутствует**."
   ]
  },
  {
   "cell_type": "markdown",
   "metadata": {},
   "source": [
    "## Обучение и проверка модели"
   ]
  },
  {
   "cell_type": "markdown",
   "metadata": {},
   "source": [
    "Будем применять линейную регрессию, так как остальные модели недостаточно предсказуемые."
   ]
  },
  {
   "cell_type": "markdown",
   "metadata": {},
   "source": [
    "### Разделение данных на выборки"
   ]
  },
  {
   "cell_type": "code",
   "execution_count": 14,
   "metadata": {},
   "outputs": [],
   "source": [
    "features_1_train, features_1_valid, target_1_train, target_1_valid = train_test_split(features_1, target_1, test_size=0.25, random_state=42)\n",
    "features_2_train, features_2_valid, target_2_train, target_2_valid = train_test_split(features_2, target_2, test_size=0.25, random_state=42)\n",
    "features_3_train, features_3_valid, target_3_train, target_3_valid = train_test_split(features_3, target_3, test_size=0.25, random_state=42)"
   ]
  },
  {
   "cell_type": "code",
   "execution_count": 15,
   "metadata": {
    "scrolled": true
   },
   "outputs": [
    {
     "data": {
      "text/plain": [
       "(75000, 3)"
      ]
     },
     "metadata": {},
     "output_type": "display_data"
    },
    {
     "data": {
      "text/plain": [
       "(75000,)"
      ]
     },
     "metadata": {},
     "output_type": "display_data"
    },
    {
     "data": {
      "text/plain": [
       "(25000, 3)"
      ]
     },
     "metadata": {},
     "output_type": "display_data"
    },
    {
     "data": {
      "text/plain": [
       "(25000,)"
      ]
     },
     "metadata": {},
     "output_type": "display_data"
    }
   ],
   "source": [
    "# проверим размеры выборок\n",
    "display(features_1_train.shape, target_1_train.shape)\n",
    "display(features_1_valid.shape, target_1_valid.shape)"
   ]
  },
  {
   "cell_type": "markdown",
   "metadata": {},
   "source": [
    "### Функция обучения"
   ]
  },
  {
   "cell_type": "code",
   "execution_count": 16,
   "metadata": {},
   "outputs": [],
   "source": [
    "def model_train(features_train, target_train, features_valid, target_valid):    \n",
    "    model = LinearRegression()\n",
    "    model.fit(features_train, target_train) # обучаем модель на тренировочной выборке\n",
    "    # получаем предсказания модели на валидационной выборке и сразу переводим их в Series\n",
    "    predictions = pd.Series(model.predict(features_valid))\n",
    "\n",
    "    avg_predicted_stock = predictions.mean() # рассчитаем средний запас предсказанного сырья\n",
    "\n",
    "    # рассчитаем значение метрики RMSE на валидационной выборке\n",
    "    rmse = mean_squared_error(target_valid, predictions) ** 0.5\n",
    "    return predictions, avg_predicted_stock, rmse"
   ]
  },
  {
   "cell_type": "markdown",
   "metadata": {},
   "source": [
    "### Обучение моделей для каждого региона"
   ]
  },
  {
   "cell_type": "code",
   "execution_count": 17,
   "metadata": {},
   "outputs": [],
   "source": [
    "predictions_1, avg_predicted_stock_1, rmse_1 = model_train(features_1_train, target_1_train, features_1_valid, target_1_valid) \n",
    "predictions_2, avg_predicted_stock_2, rmse_2 = model_train(features_2_train, target_2_train, features_2_valid, target_2_valid) \n",
    "predictions_3, avg_predicted_stock_3, rmse_3 = model_train(features_3_train, target_3_train, features_3_valid, target_3_valid) "
   ]
  },
  {
   "cell_type": "code",
   "execution_count": 18,
   "metadata": {
    "scrolled": true
   },
   "outputs": [
    {
     "name": "stdout",
     "output_type": "stream",
     "text": [
      "Средний предсказанный запас для 1-го региона: 92.39879990657768\n",
      "RMSE для 1-го региона: 37.75660035026169\n",
      "Средний предсказанный запас для 2-го региона: 68.71287803913762\n",
      "RMSE для 2-го региона: 0.890280100102884\n",
      "Средний предсказанный запас для 3-го региона: 94.77102387765939\n",
      "RMSE для 3-го региона: 40.145872311342174\n"
     ]
    }
   ],
   "source": [
    "# выведем значение среднего предсказанного запаса и RMSE на валидационной выборке для каждого региона\n",
    "print(f'Средний предсказанный запас для 1-го региона: {avg_predicted_stock_1}')\n",
    "print(f'RMSE для 1-го региона: {rmse_1}')\n",
    "\n",
    "print(f'Средний предсказанный запас для 2-го региона: {avg_predicted_stock_2}')\n",
    "print(f'RMSE для 2-го региона: {rmse_2}')\n",
    "\n",
    "print(f'Средний предсказанный запас для 3-го региона: {avg_predicted_stock_3}')\n",
    "print(f'RMSE для 3-го региона: {rmse_3}')"
   ]
  },
  {
   "cell_type": "markdown",
   "metadata": {},
   "source": [
    "### Выводы по обучению и проверкe моделей для регионов"
   ]
  },
  {
   "cell_type": "markdown",
   "metadata": {},
   "source": [
    "По результатам обучения **самое высокое значение среднего запаса предсказанного сырья получилось в 3 регине**. Однако **в 3 регионе также самое высокое значение корня из средней квадратичной ошибки (RMSE)**.\n",
    "\n",
    "**Самое низкое значение RMSE во 2 регионе, но и значение среднего запаса предсказанного сырья в нем самое маленькое**."
   ]
  },
  {
   "cell_type": "markdown",
   "metadata": {},
   "source": [
    "## Подготовка к расчёту прибыли"
   ]
  },
  {
   "cell_type": "markdown",
   "metadata": {},
   "source": [
    "### Расчет достаточного объём сырья для безубыточной разработки новой скважины"
   ]
  },
  {
   "cell_type": "code",
   "execution_count": 19,
   "metadata": {},
   "outputs": [
    {
     "name": "stdout",
     "output_type": "stream",
     "text": [
      "Объем сырья для безубыточной разработки новой скважины: 111.11111111111111\n"
     ]
    }
   ],
   "source": [
    "# объём сырья для безубыточной разработки новой скважины\n",
    "sufficient_amount = BUDGET / (N_BOREHOLES * INCOME_PER_UNIT)\n",
    "print(f'Объем сырья для безубыточной разработки новой скважины: {sufficient_amount}')"
   ]
  },
  {
   "cell_type": "code",
   "execution_count": 20,
   "metadata": {},
   "outputs": [
    {
     "data": {
      "image/png": "[encoded data removed]",
      "text/plain": [
       "<Figure size 720x432 with 1 Axes>"
      ]
     },
     "metadata": {
      "needs_background": "light"
     },
     "output_type": "display_data"
    }
   ],
   "source": [
    "regions = ['region_1_mean', 'region_2_mean', 'region_3_mean', 'sufficient_amount']\n",
    "# средний реальный запас сырья в каждом регионе\n",
    "regions_mean = [region_1['product'].mean(), region_2['product'].mean(), region_3['product'].mean(), sufficient_amount]\n",
    "\n",
    "plt.figure(figsize=(10, 6))\n",
    "plt.barh(regions, regions_mean)\n",
    "plt.xlabel('тыс. баррелей')\n",
    "plt.title('Сравнение объема сырья для безубыточной разработки со средними запасами в регионах')\n",
    "plt.show()"
   ]
  },
  {
   "cell_type": "code",
   "execution_count": 21,
   "metadata": {},
   "outputs": [
    {
     "data": {
      "image/png": "[encoded data removed]",
      "text/plain": [
       "<Figure size 720x432 with 1 Axes>"
      ]
     },
     "metadata": {
      "needs_background": "light"
     },
     "output_type": "display_data"
    }
   ],
   "source": [
    "regions = ['region_1_max', 'region_2_max', 'region_3_max', 'sufficient_amount']\n",
    "# максимальный объем добычи на лучшей скважене в каждом регионе\n",
    "regions_max = [region_1['product'].max(), region_2['product'].max(), region_3['product'].max(), sufficient_amount]\n",
    "\n",
    "plt.figure(figsize=(10, 6))\n",
    "plt.barh(regions, regions_max)\n",
    "plt.xlabel('тыс. баррелей')\n",
    "plt.title('Сравнение объема сырья для безубыточной разработки с макс. объемом добычи на лучшей скважене в каждом регионе')\n",
    "plt.show()"
   ]
  },
  {
   "cell_type": "markdown",
   "metadata": {},
   "source": [
    "**Выводы:**\n",
    "- Достаточный объем сырья для безубыточной разработки новой скважины составляет 111 тыс. баррелей.\n",
    "- Этот достаточный объем превышает средний реальный объем добычи во всех регионах.\n",
    "- При этом максимальный объем добычи на лучшей скважене в каждом регионе превышает данный достаточный объем.\n",
    "- Данные наблюдения говорят о том, что точки для разработки нельзя выбирать случайно, ведь в среднем они дают недостаточный объем."
   ]
  },
  {
   "cell_type": "markdown",
   "metadata": {},
   "source": [
    "### Функция для расчета прибыли"
   ]
  },
  {
   "cell_type": "code",
   "execution_count": 22,
   "metadata": {},
   "outputs": [],
   "source": [
    "def profit(target, predictions, n_boreholes, income_per_unit, cost):\n",
    "    pred_sorted = predictions.sort_values(ascending=False)\n",
    "    target_selected = target[pred_sorted.index][:n_boreholes]\n",
    "    region_profit = target_selected.sum() * income_per_unit - cost\n",
    "    return region_profit"
   ]
  },
  {
   "cell_type": "markdown",
   "metadata": {},
   "source": [
    "## Расчёт прибыли и рисков "
   ]
  },
  {
   "cell_type": "markdown",
   "metadata": {},
   "source": [
    "### Функция для получение распределения прибыли (процедура Bootstrap)"
   ]
  },
  {
   "cell_type": "code",
   "execution_count": 23,
   "metadata": {},
   "outputs": [],
   "source": [
    "state = np.random.RandomState(42)"
   ]
  },
  {
   "cell_type": "code",
   "execution_count": 24,
   "metadata": {},
   "outputs": [],
   "source": [
    "def do_bootstrap(target_valid, predictions, N_BOREHOLES, INCOME_PER_UNIT, BUDGET):\n",
    "    values = []\n",
    "    for i in range(1000):\n",
    "        target_subsample = target_valid.reset_index(drop=True).sample(n=500, replace=True, random_state=state)\n",
    "        probs_subsample = predictions[target_subsample.index]\n",
    "        values.append(profit(target_subsample, probs_subsample, N_BOREHOLES, INCOME_PER_UNIT, BUDGET))\n",
    "    values = pd.Series(values)\n",
    "    return values"
   ]
  },
  {
   "cell_type": "markdown",
   "metadata": {},
   "source": [
    "### Получение распределения прибыли для каждого региона"
   ]
  },
  {
   "cell_type": "code",
   "execution_count": 25,
   "metadata": {},
   "outputs": [],
   "source": [
    "values_1 = do_bootstrap(target_1_valid, predictions_1, N_BOREHOLES, INCOME_PER_UNIT, BUDGET)\n",
    "values_2 = do_bootstrap(target_2_valid, predictions_2, N_BOREHOLES, INCOME_PER_UNIT, BUDGET)\n",
    "values_3 = do_bootstrap(target_3_valid, predictions_3, N_BOREHOLES, INCOME_PER_UNIT, BUDGET)"
   ]
  },
  {
   "cell_type": "code",
   "execution_count": 26,
   "metadata": {},
   "outputs": [
    {
     "name": "stdout",
     "output_type": "stream",
     "text": [
      "Средняя прибыль: 427847560.46 руб.\n",
      "95%-й доверительный интервал (в руб.): [-97249829.57 : 954215192.71]\n",
      "Вероятность убытков: 5.5%\n"
     ]
    }
   ],
   "source": [
    "print(f'Средняя прибыль: {round(values_1.mean(), 2)} руб.')\n",
    "print(f'95%-й доверительный интервал (в руб.): [{round(values_1.quantile(0.025), 2)} : {round(values_1.quantile(0.975), 2)}]')\n",
    "print(f'Вероятность убытков: {(values_1 < 0).mean() * 100}%')"
   ]
  },
  {
   "cell_type": "code",
   "execution_count": 27,
   "metadata": {
    "scrolled": true
   },
   "outputs": [
    {
     "name": "stdout",
     "output_type": "stream",
     "text": [
      "Средняя прибыль: 511530218.15 руб.\n",
      "95%-й доверительный интервал (в руб.): [91700564.14 : 921455668.33]\n",
      "Вероятность убытков: 0.6%\n"
     ]
    }
   ],
   "source": [
    "print(f'Средняя прибыль: {round(values_2.mean(), 2)} руб.')\n",
    "print(f'95%-й доверительный интервал (в руб.): [{round(values_2.quantile(0.025), 2)} : {round(values_2.quantile(0.975), 2)}]')\n",
    "print(f'Вероятность убытков: {(values_2 < 0).mean() * 100}%')"
   ]
  },
  {
   "cell_type": "code",
   "execution_count": 28,
   "metadata": {},
   "outputs": [
    {
     "name": "stdout",
     "output_type": "stream",
     "text": [
      "Средняя прибыль: 408545681.21 руб.\n",
      "95%-й доверительный интервал (в руб.): [-120624872.94 : 960859440.73]\n",
      "Вероятность убытков: 7.5%\n"
     ]
    }
   ],
   "source": [
    "print(f'Средняя прибыль: {round(values_3.mean(), 2)} руб.')\n",
    "print(f'95%-й доверительный интервал (в руб.): [{round(values_3.quantile(0.025), 2)} : {round(values_3.quantile(0.975), 2)}]')\n",
    "print(f'Вероятность убытков: {(values_3 < 0).mean() * 100}%')"
   ]
  },
  {
   "cell_type": "markdown",
   "metadata": {},
   "source": [
    "### Вывод. Выбор региона для разработки скважин."
   ]
  },
  {
   "cell_type": "markdown",
   "metadata": {},
   "source": [
    "После оценки рисков нужно оставить лишь те регионы, в которых вероятность убытков меньше 2.5%.\n",
    "\n",
    "По результатам исследования **вероятность убытков меньше 2.5% только во 2-ом регионе (там она составляет лишь 0.6%)**. Кроме того **во 2-ом регионе самая высокая средняя прибыль**.\n",
    "\n",
    "Таким образом, **2-ой регион можно предложить для разработки как самый прибыльный и наимение убыточный**. С 95% вероятностью средняя прибыль в данном регионе составит от 498 млн. руб. до 525 млн. руб."
   ]
  },
  {
   "cell_type": "markdown",
   "metadata": {},
   "source": [
    "## Общий вывод по проекту"
   ]
  },
  {
   "cell_type": "markdown",
   "metadata": {},
   "source": [
    "**В проекте велась работа с данными о характеристиках для каждой скважины в трех регионах.** Всего 3 датасета. Каждый объект в наборе данных — это информация об определенной скважине. Были даны следующие параметры:\n",
    "- id — уникальный идентификатор скважины;\n",
    "- f0, f1, f2 — три признака точек (неважно, что они означают, но сами признаки значимы);\n",
    "- product — объём запасов в скважине (тыс. баррелей).\n",
    "\n",
    "**Задача состояла в определении региона, где добыча принесёт наибольшую прибыль.**\n",
    "\n",
    "**Перед началом анализа данные были подготовлены:**\n",
    "- удалены незначимые признаки, т.е. те которые не влияют на таргет (уникальный идентификатор скважины);\n",
    "- исходные данные разделены на обучающую и валидационную выборки.\n",
    "\n",
    "Мы построили модель для предсказания объёма запасов в новых скважинах (задача регрессии). Для обучения использовали модель линейной регрессии, так как остальные недостаточно предсказуемые.\n",
    "\n",
    "Получив предсказания на валидационной выборке для всех трех регионов, мы применили технику Bootstrap с 1000 выборок по 500 скважин. Каждый раз мы выбирали по 200 скважин с самыми высокими предсказанными значениями и считали на них прибыль. Таким образом мы смогли получить распределение прибыли в каждом регионе.\n",
    "\n",
    "**По результатам экспериментов самая высокая средняя прибыль оказалась у 2-го региона. Кроме того только в данном регионе вероятность убытков меньше 2.5% (там она составляет лишь 0.6%).**\n",
    "\n",
    "Таким образом, **2-ой регион можно предложить для разработки как самый прибыльный и наименее убыточный**. С 95% вероятностью средняя прибыль в данном регионе составит от 498 млн. руб. до 525 млн. руб."
   ]
  }
 ],
 "metadata": {
  "ExecuteTimeLog": [
   {
    "duration": 1710,
    "start_time": "2022-11-13T15:35:37.442Z"
   },
   {
    "duration": 3,
    "start_time": "2022-11-13T15:35:39.154Z"
   },
   {
    "duration": 366,
    "start_time": "2022-11-13T15:35:39.159Z"
   },
   {
    "duration": 15,
    "start_time": "2022-11-13T15:35:39.527Z"
   },
   {
    "duration": 13,
    "start_time": "2022-11-13T15:35:39.544Z"
   },
   {
    "duration": 13,
    "start_time": "2022-11-13T15:35:39.558Z"
   },
   {
    "duration": 24,
    "start_time": "2022-11-13T15:35:39.573Z"
   },
   {
    "duration": 172,
    "start_time": "2022-11-13T15:35:39.623Z"
   },
   {
    "duration": 545,
    "start_time": "2022-11-13T15:35:39.797Z"
   },
   {
    "duration": 10,
    "start_time": "2022-11-13T15:35:40.345Z"
   },
   {
    "duration": 18,
    "start_time": "2022-11-13T15:35:40.358Z"
   },
   {
    "duration": 5,
    "start_time": "2022-11-13T15:35:40.378Z"
   },
   {
    "duration": 854,
    "start_time": "2022-11-13T15:35:40.385Z"
   },
   {
    "duration": 29,
    "start_time": "2022-11-13T15:35:41.241Z"
   },
   {
    "duration": 7,
    "start_time": "2022-11-13T15:35:41.272Z"
   },
   {
    "duration": 4,
    "start_time": "2022-11-13T15:35:41.281Z"
   },
   {
    "duration": 144,
    "start_time": "2022-11-13T15:35:41.287Z"
   },
   {
    "duration": 6,
    "start_time": "2022-11-13T15:35:41.523Z"
   },
   {
    "duration": 98,
    "start_time": "2022-11-13T15:35:41.530Z"
   },
   {
    "duration": 137,
    "start_time": "2022-11-13T15:35:41.630Z"
   },
   {
    "duration": 156,
    "start_time": "2022-11-13T15:35:41.768Z"
   },
   {
    "duration": 4,
    "start_time": "2022-11-13T15:35:41.925Z"
   },
   {
    "duration": 5,
    "start_time": "2022-11-13T15:35:41.930Z"
   },
   {
    "duration": 4,
    "start_time": "2022-11-13T15:35:41.937Z"
   },
   {
    "duration": 4523,
    "start_time": "2022-11-13T15:35:41.943Z"
   },
   {
    "duration": 8,
    "start_time": "2022-11-13T15:35:46.467Z"
   },
   {
    "duration": 19,
    "start_time": "2022-11-13T15:35:46.477Z"
   },
   {
    "duration": 21,
    "start_time": "2022-11-13T15:35:46.499Z"
   }
  ],
  "kernelspec": {
   "display_name": "Python 3 (ipykernel)",
   "language": "python",
   "name": "python3"
  },
  "language_info": {
   "codemirror_mode": {
    "name": "ipython",
    "version": 3
   },
   "file_extension": ".py",
   "mimetype": "text/x-python",
   "name": "python",
   "nbconvert_exporter": "python",
   "pygments_lexer": "ipython3",
   "version": "3.9.12"
  },
  "toc": {
   "base_numbering": 1,
   "nav_menu": {
    "height": "30px",
    "width": "199px"
   },
   "number_sections": true,
   "sideBar": true,
   "skip_h1_title": true,
   "title_cell": "Содержание",
   "title_sidebar": "Contents",
   "toc_cell": true,
   "toc_position": {},
   "toc_section_display": true,
   "toc_window_display": true
  }
 },
 "nbformat": 4,
 "nbformat_minor": 2
}
